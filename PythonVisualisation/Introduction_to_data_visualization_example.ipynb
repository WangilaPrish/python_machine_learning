{
 "cells": [
  {
   "cell_type": "markdown",
   "metadata": {},
   "source": [
    "<div align=\"center\" style=\" font-size: 80%; text-align: center; margin: 0 auto\">\n",
    "<img src=\"https://raw.githubusercontent.com/Explore-AI/Pictures/master/Python-Notebook-Banners/Examples.png\"  style=\"display: block; margin-left: auto; margin-right: auto;\";/>\n",
    "</div>"
   ]
  },
  {
   "cell_type": "markdown",
   "metadata": {
    "colab_type": "text",
    "id": "7aKm6LMVIh5A"
   },
   "source": [
    "# Examples: Introduction to data visualisation\n",
    "\n"
   ]
  },
  {
   "cell_type": "markdown",
   "metadata": {},
   "source": [
    "In this train, we will explore data visualisation using Python's Matplotlib package. We will learn how to implement various plotting techniques, distinguish between graph types, and choose the best visual representation for data."
   ]
  },
  {
   "cell_type": "markdown",
   "metadata": {
    "colab_type": "text",
    "id": "ku4E8Ck9oA2g"
   },
   "source": [
    "## Learning objectives\n",
    "By the end of this train, you should be able to:\n",
    "\n",
    "* Implement various plotting techniques using Python's Matplotlib package.\n",
    "* Distinguish between different types of graphs.\n",
    "* Understand how to best represent data using a specific graph.\n",
    "* Analyse and draw insights from graphs.\n"
   ]
  },
  {
   "cell_type": "markdown",
   "metadata": {},
   "source": [
    "## Introduction\n",
    "\n",
    "\n",
    "Data visualisation is the process of presenting data and information in graphical forms such as charts, maps, and diagrams. The goal of these graphics is to improve understanding of the underlying data by making patterns, trends, correlations, and outliers more visible than a simple study of the raw data.\n",
    "\n",
    "There may be numerous occasions when we will need to share our data-driven results and insights. Unfortunately, raw data are not appropriate for this purpose. This is where maximising the potential of data visualisation becomes critical. In this train, we will learn how to visualise data using Python's graphing library, Matplotlib, as well as how to identify the appropriate visualisation approaches to apply based on the data we are given.\n",
    "\n",
    "There are many different ways to represent the same data, and the choice of visualisation affects what information is conveyed to the audience. In this train, review some of the most basic (yet useful and reliable) chart options. \n",
    "\n",
    "Below is an image depicting some of the most popular charts used for data visualisation. \n",
    "\n",
    "\n",
    "<center><img src=\"https://raw.github.com/Explore-AI/Pictures/master/Introduction_to_data_visualisation_edit.jpeg?raw=true\" style=\"float: center; padding-bottom=0.5em\" width=80%/></center>"
   ]
  },
  {
   "cell_type": "markdown",
   "metadata": {
    "colab_type": "text",
    "id": "ffJsW1o9Ih5G"
   },
   "source": [
    "## Plotting graphs\n",
    "\n",
    "In this section, we'll learn how to plot some of these graphs in Python using the `matplotlib` library.\n",
    "\n",
    "We will begin by importing some commonly used Python libraries. "
   ]
  },
  {
   "cell_type": "code",
   "execution_count": 3,
   "metadata": {
    "colab": {},
    "colab_type": "code",
    "id": "vzlc9sju04Mo"
   },
   "outputs": [],
   "source": [
    "# Import libraries\n",
    "import matplotlib.pyplot as plt #used for plotting data\n",
    "import numpy as np #used for mathematical operations\n",
    "import pandas as pd #used for loading CSV data"
   ]
  },
  {
   "cell_type": "markdown",
   "metadata": {},
   "source": [
    "### Import data\n",
    "\n",
    "For this train, we will be using [the tips](https://www.kaggle.com/jsphyg/tipping) dataset, which consists of customer tip data collected over a period of two and half months in early 1990 from one restaurant by a food server.\n",
    "\n",
    "Let's go ahead and import our data."
   ]
  },
  {
   "cell_type": "code",
   "execution_count": 4,
   "metadata": {},
   "outputs": [],
   "source": [
    "df = pd.read_csv(\"https://raw.githubusercontent.com/Explore-AI/Public-Data/master/Data/tips.csv\")"
   ]
  },
  {
   "cell_type": "markdown",
   "metadata": {},
   "source": [
    "### Data preparation\n",
    "\n",
    "Preparing data before plotting in Python is essential for various reasons. Initially, data may not be in a suitable format for direct plotting, necessitating tasks such as restructuring DataFrames and handling missing values. Additionally, data cleaning and quality assurance steps, including outlier removal and imputing missing values, ensure the accuracy of visualisations. Grouping, slicing, and aggregating the data play crucial roles in this process, allowing for the categorisation of data based on specific criteria, extraction of relevant subsets, and the creation of summarised perspectives through aggregation functions like sum, mean, or count. \n",
    "\n",
    "By addressing these aspects during data preparation, we can optimise the data for meaningful visualisations, improving the accuracy and interpretability of insights drawn from the plotted data."
   ]
  },
  {
   "cell_type": "code",
   "execution_count": 5,
   "metadata": {},
   "outputs": [
    {
     "data": {
      "text/html": [
       "<div>\n",
       "<style scoped>\n",
       "    .dataframe tbody tr th:only-of-type {\n",
       "        vertical-align: middle;\n",
       "    }\n",
       "\n",
       "    .dataframe tbody tr th {\n",
       "        vertical-align: top;\n",
       "    }\n",
       "\n",
       "    .dataframe thead th {\n",
       "        text-align: right;\n",
       "    }\n",
       "</style>\n",
       "<table border=\"1\" class=\"dataframe\">\n",
       "  <thead>\n",
       "    <tr style=\"text-align: right;\">\n",
       "      <th></th>\n",
       "      <th>total_bill</th>\n",
       "      <th>tip</th>\n",
       "      <th>sex</th>\n",
       "      <th>smoker</th>\n",
       "      <th>day</th>\n",
       "      <th>time</th>\n",
       "      <th>size</th>\n",
       "    </tr>\n",
       "  </thead>\n",
       "  <tbody>\n",
       "    <tr>\n",
       "      <th>0</th>\n",
       "      <td>16.99</td>\n",
       "      <td>1.01</td>\n",
       "      <td>Female</td>\n",
       "      <td>No</td>\n",
       "      <td>Sun</td>\n",
       "      <td>Dinner</td>\n",
       "      <td>2</td>\n",
       "    </tr>\n",
       "    <tr>\n",
       "      <th>1</th>\n",
       "      <td>10.34</td>\n",
       "      <td>1.66</td>\n",
       "      <td>Male</td>\n",
       "      <td>No</td>\n",
       "      <td>Sun</td>\n",
       "      <td>Dinner</td>\n",
       "      <td>3</td>\n",
       "    </tr>\n",
       "    <tr>\n",
       "      <th>2</th>\n",
       "      <td>21.01</td>\n",
       "      <td>3.50</td>\n",
       "      <td>Male</td>\n",
       "      <td>No</td>\n",
       "      <td>Sun</td>\n",
       "      <td>Dinner</td>\n",
       "      <td>3</td>\n",
       "    </tr>\n",
       "    <tr>\n",
       "      <th>3</th>\n",
       "      <td>23.68</td>\n",
       "      <td>3.31</td>\n",
       "      <td>Male</td>\n",
       "      <td>No</td>\n",
       "      <td>Sun</td>\n",
       "      <td>Dinner</td>\n",
       "      <td>2</td>\n",
       "    </tr>\n",
       "    <tr>\n",
       "      <th>4</th>\n",
       "      <td>24.59</td>\n",
       "      <td>3.61</td>\n",
       "      <td>Female</td>\n",
       "      <td>No</td>\n",
       "      <td>Sun</td>\n",
       "      <td>Dinner</td>\n",
       "      <td>4</td>\n",
       "    </tr>\n",
       "  </tbody>\n",
       "</table>\n",
       "</div>"
      ],
      "text/plain": [
       "   total_bill   tip     sex smoker  day    time  size\n",
       "0       16.99  1.01  Female     No  Sun  Dinner     2\n",
       "1       10.34  1.66    Male     No  Sun  Dinner     3\n",
       "2       21.01  3.50    Male     No  Sun  Dinner     3\n",
       "3       23.68  3.31    Male     No  Sun  Dinner     2\n",
       "4       24.59  3.61  Female     No  Sun  Dinner     4"
      ]
     },
     "execution_count": 5,
     "metadata": {},
     "output_type": "execute_result"
    }
   ],
   "source": [
    "df.head() #Print the first 5 rows of data"
   ]
  },
  {
   "cell_type": "code",
   "execution_count": 6,
   "metadata": {},
   "outputs": [
    {
     "name": "stdout",
     "output_type": "stream",
     "text": [
      "      total_bill     tip  size\n",
      "day                           \n",
      "Fri       325.88   51.96    40\n",
      "Sat      1778.40  260.40   219\n",
      "Sun      1627.16  247.39   216\n",
      "Thur     1096.33  171.83   152\n"
     ]
    }
   ],
   "source": [
    "title_day = df.groupby('day')[['total_bill','tip','size']].sum() #group and sum the data by the number of values for each ‘day’\n",
    "print(title_day)"
   ]
  },
  {
   "cell_type": "code",
   "execution_count": 7,
   "metadata": {},
   "outputs": [],
   "source": [
    "week_day = title_day.total_bill.sort_values().index #sort the indices and store them under the variable week_day\n",
    "bill = title_day.total_bill.sort_values() #sort the rest of the data and store it under the variable bill"
   ]
  },
  {
   "cell_type": "code",
   "execution_count": 8,
   "metadata": {},
   "outputs": [
    {
     "name": "stdout",
     "output_type": "stream",
     "text": [
      "day\n",
      "Fri      325.88\n",
      "Thur    1096.33\n",
      "Sun     1627.16\n",
      "Sat     1778.40\n",
      "Name: total_bill, dtype: float64\n"
     ]
    }
   ],
   "source": [
    "print(bill)"
   ]
  },
  {
   "cell_type": "markdown",
   "metadata": {
    "colab_type": "text",
    "id": "PzET3duQIh5G"
   },
   "source": [
    "### Bar graph"
   ]
  },
  {
   "cell_type": "markdown",
   "metadata": {
    "colab_type": "text",
    "id": "BGj7Ck2_Ih5H"
   },
   "source": [
    "From the data provided, we can find out which days of the week the restaurant was the busiest and made the most amount of money. \n",
    "\n",
    "We can visualise this data using a bar graph as follows:"
   ]
  },
  {
   "cell_type": "code",
   "execution_count": 9,
   "metadata": {
    "colab": {
     "base_uri": "https://localhost:8080/",
     "height": 322
    },
    "colab_type": "code",
    "id": "aLoPc_kSIh5I",
    "outputId": "fa737e61-8c76-4a20-99d8-d6856dd1b80b"
   },
   "outputs": [
    {
     "data": {
      "image/png": "[encoded data removed]",
      "text/plain": [
       "<Figure size 640x480 with 1 Axes>"
      ]
     },
     "metadata": {},
     "output_type": "display_data"
    }
   ],
   "source": [
    "# Plot total bill (y-axis) per day of the week (x-axis).\n",
    "# We only have to call a single line of code from matplotlib to produce the base graph.\n",
    "# We set the x-axis, y-axis, and the colour of the bars.\n",
    "plt.bar(week_day, bill, color= 'orange')\n",
    "\n",
    "# Set x and y-axis titles.\n",
    "plt.ylabel('Total Bill')\n",
    "plt.xlabel('\\n Days of the Week(Thur-Sun)') # Note: '\\n' creates a newline (try removing it and see what happens)\n",
    "\n",
    "# Set graph title.\n",
    "plt.title('Total bill of customers for Thur-Sun \\n')\n",
    "\n",
    "# Show graph.\n",
    "plt.show()"
   ]
  },
  {
   "cell_type": "markdown",
   "metadata": {
    "colab_type": "text",
    "id": "tdOmOO0BFhdp"
   },
   "source": [
    "From the bar graph, we can see that the restaurant makes most of its money on the weekend. This is expected as Saturday and Sunday are usually the busiest days of the week for restaurants when people are off from work.  "
   ]
  },
  {
   "cell_type": "markdown",
   "metadata": {
    "colab_type": "text",
    "id": "RRFJsU8MIh5L"
   },
   "source": [
    "### Pie chart\n",
    "\n",
    "Next, we will plot a pie chart showing the proportion of the total meals served at the restaurant, and determine during which mealtime the server earned the most in tips.  \n",
    "\n",
    "Let's start by preparing the data."
   ]
  },
  {
   "cell_type": "code",
   "execution_count": 10,
   "metadata": {},
   "outputs": [
    {
     "name": "stdout",
     "output_type": "stream",
     "text": [
      "        total_bill     tip  size\n",
      "time                            \n",
      "Dinner     3660.30  546.07   463\n",
      "Lunch      1167.47  185.51   164\n"
     ]
    }
   ],
   "source": [
    "title_time = df.groupby('time')[['total_bill','tip','size']].sum() # Group and sum data by the number of values for each ‘time’ category\n",
    "print(title_time)"
   ]
  },
  {
   "cell_type": "code",
   "execution_count": 11,
   "metadata": {},
   "outputs": [],
   "source": [
    "meal_time = title_time.tip.sort_values().index #Sort the indices\n",
    "tips = title_time.tip.sort_values()"
   ]
  },
  {
   "cell_type": "code",
   "execution_count": 12,
   "metadata": {
    "colab": {
     "base_uri": "https://localhost:8080/",
     "height": 248
    },
    "colab_type": "code",
    "id": "-kk69NFUIh5N",
    "outputId": "6a7df316-118f-497a-a818-04ea52852961"
   },
   "outputs": [
    {
     "data": {
      "image/png": "[encoded data removed]",
      "text/plain": [
       "<Figure size 640x480 with 1 Axes>"
      ]
     },
     "metadata": {},
     "output_type": "display_data"
    }
   ],
   "source": [
    "# Plot a pie chart.\n",
    "# The `autopct` argument defines the format applied to the data labels.\n",
    "# The `startangle` argument determines which point in the pie to start plotting proportions from.\n",
    "# Full plot documentation can be found here: https://matplotlib.org/3.1.1/api/_as_gen/matplotlib.pyplot.pie.html\n",
    "plt.pie(tips, labels = meal_time, autopct='%1.1f%%',  startangle=140)\n",
    "\n",
    "# Place the chart legend in a position which does not overlap with other components.\n",
    "plt.legend(loc=\"best\")\n",
    "plt.axis('equal')\n",
    "plt.show()"
   ]
  },
  {
   "cell_type": "markdown",
   "metadata": {},
   "source": [
    "### Pie vs donut charts"
   ]
  },
  {
   "cell_type": "markdown",
   "metadata": {},
   "source": [
    "Donut charts are quite similar to pie charts except they contain a hole in their centre and display categories as arcs rather than slices. Donut charts are considered easier to interpret visually in comparison to pie charts. Let's visualise the same data using a **donut chart**. "
   ]
  },
  {
   "cell_type": "code",
   "execution_count": null,
   "metadata": {},
   "outputs": [],
   "source": [
    "#Plot a donut chart\n",
    "\n",
    "# Initially we create a pie chart as the base of our donut chart.\n",
    "plt.pie(tips, labels=meal_time, autopct='%1.1f%%', startangle=140)\n",
    "\n",
    "# Next, we create a circle at the centre of the base plot.\n",
    "centre_circle = plt.Circle((0,0),0.77, fc='white',linewidth=1.25)\n",
    "fig = plt.gcf() # <-- Matplotlib command to get the current figure for further manipulation.\n",
    "# Add the circle to our base pie chart.\n",
    "fig.gca().add_artist(centre_circle)\n",
    "\n",
    "plt.legend(loc=\"best\")\n",
    "plt.axis('equal')\n",
    "plt.show()"
   ]
  },
  {
   "cell_type": "markdown",
   "metadata": {
    "colab_type": "text",
    "id": "KNsH85xaFDaJ"
   },
   "source": [
    "From both the pie and donut chart, we can see that dinner was definitely the most profitable mealtime for the server. \n",
    "\n",
    "Having learned how to plot both pie and donut charts we can now use personal preference to decide which is more visually appealing and easy to interpret in our own data analysis projects. "
   ]
  },
  {
   "cell_type": "markdown",
   "metadata": {
    "colab_type": "text",
    "id": "esznmxSlIh5V"
   },
   "source": [
    "### Line graph\n",
    "\n",
    "Suppose we now want to see how many meals were sold over six months at this busy restaurant. We can go ahead and create a dictionary of this information based on the `total_meals` sold at the restaurant from January to June 1990.  "
   ]
  },
  {
   "cell_type": "code",
   "execution_count": null,
   "metadata": {
    "colab": {},
    "colab_type": "code",
    "id": "_9CkVxONrI4r"
   },
   "outputs": [],
   "source": [
    "total_meals = {'31/01/1990': 1340, '28/02/1990': 1338, '31/03/1990': 1330, '30/04/1990': 1328, '31/05/1990': 1335, '30/06/1990': 1335}"
   ]
  },
  {
   "cell_type": "markdown",
   "metadata": {
    "colab_type": "text",
    "id": "-hjJcKWrrLmo"
   },
   "source": [
    "To visualise this data we can use a **line graph**:"
   ]
  },
  {
   "cell_type": "code",
   "execution_count": null,
   "metadata": {
    "colab": {
     "base_uri": "https://localhost:8080/",
     "height": 295
    },
    "colab_type": "code",
    "id": "ArudmndSIh5W",
    "outputId": "c835f7c8-c7f5-41d9-823a-ff1ab8b7a799"
   },
   "outputs": [],
   "source": [
    "dates = list(total_meals.keys()) # Extract the dates (the dictionary keys of our data in this case)\n",
    "x_ax = [date[3:5] for date in dates] # Extract the month from each date string\n",
    "y_ax = list(total_meals.values()) # Extract the total number of meals consumed on each date as a Python list\n",
    "\n",
    "# Plot the line graph.\n",
    "plt.plot(x_ax, y_ax, color='green')\n",
    "\n",
    "# Set axis and graph titles.\n",
    "plt.xlabel('Month')\n",
    "plt.ylabel('Number of Total meals sold')\n",
    "plt.title('Line Graph Showing the Total Number of Meals Sold Over the First 6 Months of 1990 \\n')\n",
    "\n",
    "plt.show()"
   ]
  },
  {
   "cell_type": "markdown",
   "metadata": {
    "colab_type": "text",
    "id": "alwFWJe8E0Dr"
   },
   "source": [
    "From the line plot, we observe successive decreases in the number of meals sold from January to April, with this last month representing the lowest number of sales. This is not coincidental as the Easter holidays are usually celebrated in April when people enjoy spending time with family and feasting on home-cooked meals instead of going out. "
   ]
  },
  {
   "cell_type": "markdown",
   "metadata": {
    "colab_type": "text",
    "id": "lVkeEle7Ih5Z"
   },
   "source": [
    "### Scatter plot\n",
    "As a final visual analysis, we will investigate if there is a relationship between the size of a group which visits the restaurant and the amount that the server gets tipped from this group. We can visually consider this relationship using a **scatter plot**.\n",
    "\n",
    "Scatter plots are a powerful form of visualisation which allow us to view many data points at once. Typically, two variables are considered for a given dataset, with x and y-axis cartesian coordinates being used to place markers representing the data.  Additional variables can also be represented by adding further visual properties to the markers,  such as modifying their size, shape or colour.    \n",
    "\n",
    "In the case of our scatter plot, we seek to observe both the bill total and the associated tip received for each data entry and to code these values based upon the related group size. We can use the first two variables for the plot's x and y-axis respectively and can represent the group size variable by using different marker colours.        \n"
   ]
  },
  {
   "cell_type": "code",
   "execution_count": null,
   "metadata": {
    "colab": {
     "base_uri": "https://localhost:8080/",
     "height": 295
    },
    "colab_type": "code",
    "id": "ZqM6T3CTIh5a",
    "outputId": "89e2dff0-425f-4f84-b08d-9f84464b5249"
   },
   "outputs": [],
   "source": [
    "# For this plot, we need to access the underlying Axes object used to create our chart.\n",
    "# To display our data correctly, we also set the `figsize` argument to increase the size of the plot.\n",
    "fig, ax = plt.subplots(figsize=(10,5))\n",
    "\n",
    "# Create the scatter plot, with the 'size' variable being coded as the marker colour.\n",
    "# We set the `alpha` parameter to make the markers slightly transparent to view overlapping points.\n",
    "scatter = ax.scatter(df['total_bill'], df['tip'], c=df['size'], alpha=0.8)\n",
    "\n",
    "# We now create our legend based upon the underlying group size and colour assignments.\n",
    "ax.legend(*scatter.legend_elements(), loc=\"best\", title=\"Group Size\")\n",
    "\n",
    "# Set graph and axis titles.\n",
    "plt.title('Scatter Plot Showing the Average Amount Tipped vs Group Size \\n')\n",
    "plt.xlabel('Bill Total ($)')\n",
    "plt.ylabel('Amount Tipped ($)')\n",
    "\n",
    "plt.show()"
   ]
  },
  {
   "cell_type": "markdown",
   "metadata": {
    "colab_type": "text",
    "id": "BeUmkAfvF8KP"
   },
   "source": [
    "This chart holds so much information! Firstly, we see a general trend that as the group size increases, so does the bill total and the amount tipped. Interestingly, the scatter plot fans out in a cone shape, indicating that as the bill increases, there is also more variance in the tips produced. Lastly, it is also surprising to note that the highest tips produced come from mid-sized groups (three to four individuals). This may represent a dynamic where larger groups tend to both order and tip less, based on the fact that the bill is either being generously picked up by one group member or split by the group as a whole. It's important to note that this last point is an assumption, however, and cannot be supported by the chart alone – highlighting the need for further data-driven analysis which often accompanies the evaluation of a visualisation.    "
   ]
  },
  {
   "cell_type": "markdown",
   "metadata": {},
   "source": [
    "#  \n",
    "\n",
    "<div align=\"center\" style=\" font-size: 80%; text-align: center; margin: 0 auto\">\n",
    "<img src=\"https://raw.githubusercontent.com/Explore-AI/Pictures/refs/heads/master/ALX_banners/ALX_Navy.png\"  style=\"width:140px\";/>\n",
    "</div>"
   ]
  }
 ],
 "metadata": {
  "colab": {
   "name": "intro_to_data_visualization.ipynb",
   "provenance": []
  },
  "kernelspec": {
   "display_name": "base",
   "language": "python",
   "name": "python3"
  },
  "language_info": {
   "codemirror_mode": {
    "name": "ipython",
    "version": 3
   },
   "file_extension": ".py",
   "mimetype": "text/x-python",
   "name": "python",
   "nbconvert_exporter": "python",
   "pygments_lexer": "ipython3",
   "version": "3.12.7"
  }
 },
 "nbformat": 4,
 "nbformat_minor": 1
}
